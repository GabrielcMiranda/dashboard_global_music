{
 "cells": [
  {
   "metadata": {
    "ExecuteTime": {
     "end_time": "2025-03-27T20:59:45.141433Z",
     "start_time": "2025-03-27T20:59:45.128133Z"
    }
   },
   "cell_type": "code",
   "source": [
    "import pandas as pd\n",
    "import matplotlib.pyplot as plt\n",
    "import seaborn as sns"
   ],
   "id": "ab5a684fda5d0613",
   "outputs": [],
   "execution_count": 2
  },
  {
   "metadata": {},
   "cell_type": "markdown",
   "source": [
    "Carregue o dataset e exiba as 10 primeiras linhas para ter uma visão inicial dos dados.\n",
    "\n"
   ],
   "id": "78e375fcdf23c7ca"
  },
  {
   "metadata": {
    "ExecuteTime": {
     "end_time": "2025-03-27T20:26:32.532259Z",
     "start_time": "2025-03-27T20:26:32.476974Z"
    }
   },
   "cell_type": "code",
   "source": [
    "df = pd.read_csv(\"Global_Music_Streaming_Listener_Preferences.csv\")\n",
    "df.head(10)"
   ],
   "id": "f32c0526dff21c9c",
   "outputs": [
    {
     "data": {
      "text/plain": [
       "  User_ID  Age      Country Streaming Platform  Top Genre  \\\n",
       "0   U1000   34        Japan              Tidal     Reggae   \n",
       "1   U1001   24      Germany             Deezer    Country   \n",
       "2   U1002   49      Germany             Deezer        Pop   \n",
       "3   U1003   55    Australia            YouTube     Reggae   \n",
       "4   U1004   13      Germany       Amazon Music     Reggae   \n",
       "5   U1005   25  South Korea            Spotify        EDM   \n",
       "6   U1006   49    Australia              Tidal    Country   \n",
       "7   U1007   32           UK       Amazon Music  Classical   \n",
       "8   U1008   25      Germany              Tidal      Metal   \n",
       "9   U1009   37       Brazil            Spotify     Reggae   \n",
       "\n",
       "   Minutes Streamed Per Day  Number of Songs Liked Most Played Artist  \\\n",
       "0                       295                    138              Adele   \n",
       "1                        86                    388         Ed Sheeran   \n",
       "2                       363                    368        Post Malone   \n",
       "3                       348                    349           Dua Lipa   \n",
       "4                        30                    328              Adele   \n",
       "5                       536                    243         The Weeknd   \n",
       "6                       547                     70      Billie Eilish   \n",
       "7                        98                    448           Dua Lipa   \n",
       "8                       526                     27                BTS   \n",
       "9                       514                    299      Billie Eilish   \n",
       "\n",
       "  Subscription Type Listening Time (Morning/Afternoon/Night)  \\\n",
       "0              Free                                Afternoon   \n",
       "1           Premium                                    Night   \n",
       "2           Premium                                Afternoon   \n",
       "3           Premium                                  Morning   \n",
       "4              Free                                    Night   \n",
       "5           Premium                                Afternoon   \n",
       "6              Free                                    Night   \n",
       "7           Premium                                Afternoon   \n",
       "8           Premium                                  Morning   \n",
       "9           Premium                                  Morning   \n",
       "\n",
       "   Discover Weekly Engagement (%)  Repeat Song Rate (%)  \n",
       "0                           47.42                 16.74  \n",
       "1                           12.06                 69.25  \n",
       "2                           47.19                 67.38  \n",
       "3                           31.27                 76.51  \n",
       "4                           30.68                 43.41  \n",
       "5                           70.26                 27.79  \n",
       "6                           11.92                 37.75  \n",
       "7                           29.48                 18.80  \n",
       "8                           85.70                 42.38  \n",
       "9                           53.39                 46.89  "
      ],
      "text/html": [
       "<div>\n",
       "<style scoped>\n",
       "    .dataframe tbody tr th:only-of-type {\n",
       "        vertical-align: middle;\n",
       "    }\n",
       "\n",
       "    .dataframe tbody tr th {\n",
       "        vertical-align: top;\n",
       "    }\n",
       "\n",
       "    .dataframe thead th {\n",
       "        text-align: right;\n",
       "    }\n",
       "</style>\n",
       "<table border=\"1\" class=\"dataframe\">\n",
       "  <thead>\n",
       "    <tr style=\"text-align: right;\">\n",
       "      <th></th>\n",
       "      <th>User_ID</th>\n",
       "      <th>Age</th>\n",
       "      <th>Country</th>\n",
       "      <th>Streaming Platform</th>\n",
       "      <th>Top Genre</th>\n",
       "      <th>Minutes Streamed Per Day</th>\n",
       "      <th>Number of Songs Liked</th>\n",
       "      <th>Most Played Artist</th>\n",
       "      <th>Subscription Type</th>\n",
       "      <th>Listening Time (Morning/Afternoon/Night)</th>\n",
       "      <th>Discover Weekly Engagement (%)</th>\n",
       "      <th>Repeat Song Rate (%)</th>\n",
       "    </tr>\n",
       "  </thead>\n",
       "  <tbody>\n",
       "    <tr>\n",
       "      <th>0</th>\n",
       "      <td>U1000</td>\n",
       "      <td>34</td>\n",
       "      <td>Japan</td>\n",
       "      <td>Tidal</td>\n",
       "      <td>Reggae</td>\n",
       "      <td>295</td>\n",
       "      <td>138</td>\n",
       "      <td>Adele</td>\n",
       "      <td>Free</td>\n",
       "      <td>Afternoon</td>\n",
       "      <td>47.42</td>\n",
       "      <td>16.74</td>\n",
       "    </tr>\n",
       "    <tr>\n",
       "      <th>1</th>\n",
       "      <td>U1001</td>\n",
       "      <td>24</td>\n",
       "      <td>Germany</td>\n",
       "      <td>Deezer</td>\n",
       "      <td>Country</td>\n",
       "      <td>86</td>\n",
       "      <td>388</td>\n",
       "      <td>Ed Sheeran</td>\n",
       "      <td>Premium</td>\n",
       "      <td>Night</td>\n",
       "      <td>12.06</td>\n",
       "      <td>69.25</td>\n",
       "    </tr>\n",
       "    <tr>\n",
       "      <th>2</th>\n",
       "      <td>U1002</td>\n",
       "      <td>49</td>\n",
       "      <td>Germany</td>\n",
       "      <td>Deezer</td>\n",
       "      <td>Pop</td>\n",
       "      <td>363</td>\n",
       "      <td>368</td>\n",
       "      <td>Post Malone</td>\n",
       "      <td>Premium</td>\n",
       "      <td>Afternoon</td>\n",
       "      <td>47.19</td>\n",
       "      <td>67.38</td>\n",
       "    </tr>\n",
       "    <tr>\n",
       "      <th>3</th>\n",
       "      <td>U1003</td>\n",
       "      <td>55</td>\n",
       "      <td>Australia</td>\n",
       "      <td>YouTube</td>\n",
       "      <td>Reggae</td>\n",
       "      <td>348</td>\n",
       "      <td>349</td>\n",
       "      <td>Dua Lipa</td>\n",
       "      <td>Premium</td>\n",
       "      <td>Morning</td>\n",
       "      <td>31.27</td>\n",
       "      <td>76.51</td>\n",
       "    </tr>\n",
       "    <tr>\n",
       "      <th>4</th>\n",
       "      <td>U1004</td>\n",
       "      <td>13</td>\n",
       "      <td>Germany</td>\n",
       "      <td>Amazon Music</td>\n",
       "      <td>Reggae</td>\n",
       "      <td>30</td>\n",
       "      <td>328</td>\n",
       "      <td>Adele</td>\n",
       "      <td>Free</td>\n",
       "      <td>Night</td>\n",
       "      <td>30.68</td>\n",
       "      <td>43.41</td>\n",
       "    </tr>\n",
       "    <tr>\n",
       "      <th>5</th>\n",
       "      <td>U1005</td>\n",
       "      <td>25</td>\n",
       "      <td>South Korea</td>\n",
       "      <td>Spotify</td>\n",
       "      <td>EDM</td>\n",
       "      <td>536</td>\n",
       "      <td>243</td>\n",
       "      <td>The Weeknd</td>\n",
       "      <td>Premium</td>\n",
       "      <td>Afternoon</td>\n",
       "      <td>70.26</td>\n",
       "      <td>27.79</td>\n",
       "    </tr>\n",
       "    <tr>\n",
       "      <th>6</th>\n",
       "      <td>U1006</td>\n",
       "      <td>49</td>\n",
       "      <td>Australia</td>\n",
       "      <td>Tidal</td>\n",
       "      <td>Country</td>\n",
       "      <td>547</td>\n",
       "      <td>70</td>\n",
       "      <td>Billie Eilish</td>\n",
       "      <td>Free</td>\n",
       "      <td>Night</td>\n",
       "      <td>11.92</td>\n",
       "      <td>37.75</td>\n",
       "    </tr>\n",
       "    <tr>\n",
       "      <th>7</th>\n",
       "      <td>U1007</td>\n",
       "      <td>32</td>\n",
       "      <td>UK</td>\n",
       "      <td>Amazon Music</td>\n",
       "      <td>Classical</td>\n",
       "      <td>98</td>\n",
       "      <td>448</td>\n",
       "      <td>Dua Lipa</td>\n",
       "      <td>Premium</td>\n",
       "      <td>Afternoon</td>\n",
       "      <td>29.48</td>\n",
       "      <td>18.80</td>\n",
       "    </tr>\n",
       "    <tr>\n",
       "      <th>8</th>\n",
       "      <td>U1008</td>\n",
       "      <td>25</td>\n",
       "      <td>Germany</td>\n",
       "      <td>Tidal</td>\n",
       "      <td>Metal</td>\n",
       "      <td>526</td>\n",
       "      <td>27</td>\n",
       "      <td>BTS</td>\n",
       "      <td>Premium</td>\n",
       "      <td>Morning</td>\n",
       "      <td>85.70</td>\n",
       "      <td>42.38</td>\n",
       "    </tr>\n",
       "    <tr>\n",
       "      <th>9</th>\n",
       "      <td>U1009</td>\n",
       "      <td>37</td>\n",
       "      <td>Brazil</td>\n",
       "      <td>Spotify</td>\n",
       "      <td>Reggae</td>\n",
       "      <td>514</td>\n",
       "      <td>299</td>\n",
       "      <td>Billie Eilish</td>\n",
       "      <td>Premium</td>\n",
       "      <td>Morning</td>\n",
       "      <td>53.39</td>\n",
       "      <td>46.89</td>\n",
       "    </tr>\n",
       "  </tbody>\n",
       "</table>\n",
       "</div>"
      ]
     },
     "execution_count": 8,
     "metadata": {},
     "output_type": "execute_result"
    }
   ],
   "execution_count": 8
  },
  {
   "metadata": {},
   "cell_type": "markdown",
   "source": [
    "Quantos usuários existem no dataset e quais são as colunas disponíveis?\n",
    "\n"
   ],
   "id": "37713d8356823c0e"
  },
  {
   "metadata": {
    "ExecuteTime": {
     "end_time": "2025-03-27T20:27:52.548710Z",
     "start_time": "2025-03-27T20:27:52.535964Z"
    }
   },
   "cell_type": "code",
   "source": [
    "lin, col = df.shape\n",
    "print(f\"numero de usuarios: {lin}. numero de colunas: {col}.\")"
   ],
   "id": "f2b624f502bc0d44",
   "outputs": [
    {
     "name": "stdout",
     "output_type": "stream",
     "text": [
      "numero de usuarios: 5000. numero de colunas: 12.\n"
     ]
    }
   ],
   "execution_count": 11
  },
  {
   "metadata": {},
   "cell_type": "markdown",
   "source": [
    "Quais são os tipos de dados de cada coluna do dataframe?\n",
    "\n"
   ],
   "id": "17d61380947096e6"
  },
  {
   "metadata": {
    "ExecuteTime": {
     "end_time": "2025-03-27T20:28:18.293414Z",
     "start_time": "2025-03-27T20:28:18.235792Z"
    }
   },
   "cell_type": "code",
   "source": "df.info()",
   "id": "c6ca66f382ba3ae2",
   "outputs": [
    {
     "name": "stdout",
     "output_type": "stream",
     "text": [
      "<class 'pandas.core.frame.DataFrame'>\n",
      "RangeIndex: 5000 entries, 0 to 4999\n",
      "Data columns (total 12 columns):\n",
      " #   Column                                    Non-Null Count  Dtype  \n",
      "---  ------                                    --------------  -----  \n",
      " 0   User_ID                                   5000 non-null   object \n",
      " 1   Age                                       5000 non-null   int64  \n",
      " 2   Country                                   5000 non-null   object \n",
      " 3   Streaming Platform                        5000 non-null   object \n",
      " 4   Top Genre                                 5000 non-null   object \n",
      " 5   Minutes Streamed Per Day                  5000 non-null   int64  \n",
      " 6   Number of Songs Liked                     5000 non-null   int64  \n",
      " 7   Most Played Artist                        5000 non-null   object \n",
      " 8   Subscription Type                         5000 non-null   object \n",
      " 9   Listening Time (Morning/Afternoon/Night)  5000 non-null   object \n",
      " 10  Discover Weekly Engagement (%)            5000 non-null   float64\n",
      " 11  Repeat Song Rate (%)                      5000 non-null   float64\n",
      "dtypes: float64(2), int64(3), object(7)\n",
      "memory usage: 468.9+ KB\n"
     ]
    }
   ],
   "execution_count": 12
  },
  {
   "metadata": {},
   "cell_type": "markdown",
   "source": [
    "Gere as estatísticas descritivas (média, mediana, desvio padrão, etc.) para as variáveis numéricas do dataset.\n",
    "\n"
   ],
   "id": "29ba866f7c10f718"
  },
  {
   "metadata": {},
   "cell_type": "code",
   "outputs": [],
   "execution_count": null,
   "source": "",
   "id": "da781165fc27a50d"
  },
  {
   "metadata": {},
   "cell_type": "markdown",
   "source": [
    "Quantos usuários apresentam um engajamento semanal de descoberta (discover weekly engagement) acima de um determinado valor (por exemplo, 50%)?\n",
    "\n"
   ],
   "id": "fc36b755494756ea"
  },
  {
   "metadata": {},
   "cell_type": "code",
   "outputs": [],
   "execution_count": null,
   "source": "",
   "id": "eeb83704b5ecd0d6"
  },
  {
   "metadata": {},
   "cell_type": "markdown",
   "source": [
    "Qual é a média de minutos transmitidos por dia entre os usuários?\n",
    "\n"
   ],
   "id": "5e7b3a33bf9fe96e"
  },
  {
   "metadata": {},
   "cell_type": "code",
   "outputs": [],
   "execution_count": null,
   "source": "",
   "id": "d7b5e55cc5fd35f7"
  },
  {
   "metadata": {},
   "cell_type": "markdown",
   "source": [
    "Quantos usuários possuem assinatura premium e curtem um determinado gênero musical, ou seja, qual a interseção entre 'subscription type' e 'top genre'?\n",
    "\n"
   ],
   "id": "e32c16e0300a0a10"
  },
  {
   "metadata": {},
   "cell_type": "code",
   "outputs": [],
   "execution_count": null,
   "source": "",
   "id": "1386d391e8da8c2f"
  },
  {
   "metadata": {},
   "cell_type": "markdown",
   "source": [
    "Qual é a média de minutos transmitidos por dia para os usuários que escutam músicas predominantemente em um período específico (manhã, tarde ou noite)?\n",
    "\n"
   ],
   "id": "e2ba40be068bd3b"
  },
  {
   "metadata": {},
   "cell_type": "code",
   "outputs": [],
   "execution_count": null,
   "source": "",
   "id": "c3535c7dccf53b09"
  },
  {
   "metadata": {},
   "cell_type": "markdown",
   "source": [
    "Qual é o valor máximo de minutos transmitidos por dia e qual usuário (user_id) apresenta esse tempo de streaming?\n",
    "\n"
   ],
   "id": "a79cea719242ed1"
  },
  {
   "metadata": {},
   "cell_type": "code",
   "outputs": [],
   "execution_count": null,
   "source": "",
   "id": "ed6bf79b840eab18"
  },
  {
   "metadata": {},
   "cell_type": "markdown",
   "source": [
    "Entre os usuários com assinatura gratuita, qual é a plataforma de streaming mais utilizada?\n",
    "\n"
   ],
   "id": "f5f903b601760bca"
  },
  {
   "metadata": {},
   "cell_type": "code",
   "outputs": [],
   "execution_count": null,
   "source": "",
   "id": "6faf27851c44139d"
  },
  {
   "metadata": {},
   "cell_type": "markdown",
   "source": [
    "Qual é a média do número de músicas curtidas (number of songs liked) para cada tipo de assinatura?\n",
    "\n"
   ],
   "id": "787df4c04b58d443"
  },
  {
   "metadata": {},
   "cell_type": "code",
   "outputs": [],
   "execution_count": null,
   "source": "",
   "id": "46c011f1d14e61c2"
  },
  {
   "metadata": {},
   "cell_type": "markdown",
   "source": [
    "Plote um gráfico de dispersão relacionando o número de músicas curtidas com os minutos transmitidos por dia, identificando possíveis correlações.\n",
    "\n"
   ],
   "id": "dcef3f8b9e4189a2"
  },
  {
   "metadata": {},
   "cell_type": "code",
   "outputs": [],
   "execution_count": null,
   "source": "",
   "id": "c0f5e2e941fe6bb8"
  },
  {
   "metadata": {},
   "cell_type": "markdown",
   "source": [
    "Crie um boxplot para comparar a distribuição dos minutos transmitidos por dia entre os diferentes tipos de assinatura.\n",
    "\n"
   ],
   "id": "98ba7191e9a72a4"
  },
  {
   "metadata": {},
   "cell_type": "code",
   "outputs": [],
   "execution_count": null,
   "source": "",
   "id": "ce35d4a2862d5845"
  },
  {
   "metadata": {},
   "cell_type": "markdown",
   "source": [
    "Plote um gráfico de barras mostrando a contagem de usuários por país.\n",
    "\n"
   ],
   "id": "1619909be811a5f8"
  },
  {
   "metadata": {},
   "cell_type": "code",
   "outputs": [],
   "execution_count": null,
   "source": "",
   "id": "4c7ab5409409185c"
  },
  {
   "metadata": {},
   "cell_type": "markdown",
   "source": [
    "Qual é a correlação entre os minutos transmitidos por dia e a taxa de repetição de músicas (repeat song rate)?\n",
    "\n"
   ],
   "id": "d06a472c4556222"
  },
  {
   "metadata": {},
   "cell_type": "code",
   "outputs": [],
   "execution_count": null,
   "source": "",
   "id": "6183b2bdf9db3e81"
  },
  {
   "metadata": {},
   "cell_type": "markdown",
   "source": [
    "Quantos usuários possuem um repeat song rate acima de um determinado limiar (por exemplo, 50%)?\n",
    "\n"
   ],
   "id": "285b9e38097070a1"
  },
  {
   "metadata": {},
   "cell_type": "code",
   "outputs": [],
   "execution_count": null,
   "source": "",
   "id": "a32013f8424c3199"
  },
  {
   "metadata": {},
   "cell_type": "markdown",
   "source": [
    "Quantos usuários apresentam um engajamento semanal de descoberta inferior a um determinado valor (por exemplo, 20%)?\n",
    "\n"
   ],
   "id": "555fb9d3c404ea2"
  },
  {
   "metadata": {},
   "cell_type": "code",
   "outputs": [],
   "execution_count": null,
   "source": "",
   "id": "3e8419a444e6cecf"
  },
  {
   "metadata": {},
   "cell_type": "markdown",
   "source": [
    "Qual é a distribuição de idades dos usuários? Plote um histograma para visualizar essa distribuição.\n",
    "\n"
   ],
   "id": "cc5510f42222c74b"
  },
  {
   "metadata": {},
   "cell_type": "code",
   "outputs": [],
   "execution_count": null,
   "source": "",
   "id": "51c8a75e4206e7"
  },
  {
   "metadata": {},
   "cell_type": "markdown",
   "source": [
    "Qual a taxa de conversão (por exemplo, a proporção de usuários que possuem um alto engajamento semanal) por país ou por plataforma de streaming?\n",
    "\n"
   ],
   "id": "57c9a33e12c6f4de"
  },
  {
   "metadata": {},
   "cell_type": "code",
   "outputs": [],
   "execution_count": null,
   "source": "",
   "id": "d71eb3340dbb10d9"
  },
  {
   "metadata": {},
   "cell_type": "markdown",
   "source": [
    "Plote um heatmap da matriz de correlação para visualizar as relações entre as variáveis numéricas do dataset.\n",
    "\n"
   ],
   "id": "4e993795b23c041f"
  },
  {
   "metadata": {},
   "cell_type": "code",
   "outputs": [],
   "execution_count": null,
   "source": "",
   "id": "dbc0f4144a5b2c79"
  },
  {
   "metadata": {},
   "cell_type": "markdown",
   "source": [
    "Como se distribuem os minutos transmitidos por dia quando cruzamos os dados por tipo de assinatura e plataforma de streaming?\n",
    "\n"
   ],
   "id": "9f82d7e2c064efd9"
  },
  {
   "metadata": {},
   "cell_type": "code",
   "outputs": [],
   "execution_count": null,
   "source": "",
   "id": "6ab387909559dd1e"
  },
  {
   "metadata": {},
   "cell_type": "markdown",
   "source": [
    "Crie um gráfico de sua escolha que ajude a explorar a relação entre a idade dos usuários e o número de músicas curtidas.\n",
    "\n"
   ],
   "id": "66d692be3e8246f3"
  },
  {
   "metadata": {},
   "cell_type": "code",
   "outputs": [],
   "execution_count": null,
   "source": "",
   "id": "c2bcea5aed05bea3"
  },
  {
   "metadata": {},
   "cell_type": "markdown",
   "source": [
    "Crie uma nova coluna chamada 'high_engagement', que seja True se o engajamento semanal de descoberta for maior que 50% e False caso contrário.\n",
    "\n"
   ],
   "id": "a0e4c76027b1dfe5"
  },
  {
   "metadata": {},
   "cell_type": "code",
   "outputs": [],
   "execution_count": null,
   "source": "",
   "id": "43abfb85fd99b4e1"
  },
  {
   "metadata": {},
   "cell_type": "markdown",
   "source": "Quantos usuários possuem alto engajamento (ou seja, onde 'high_engagement' é True)?",
   "id": "ab899bd66662a0b3"
  },
  {
   "metadata": {},
   "cell_type": "code",
   "outputs": [],
   "execution_count": null,
   "source": "",
   "id": "2d8bdad8cc500de8"
  }
 ],
 "metadata": {
  "kernelspec": {
   "display_name": "Python 3",
   "language": "python",
   "name": "python3"
  },
  "language_info": {
   "codemirror_mode": {
    "name": "ipython",
    "version": 2
   },
   "file_extension": ".py",
   "mimetype": "text/x-python",
   "name": "python",
   "nbconvert_exporter": "python",
   "pygments_lexer": "ipython2",
   "version": "2.7.6"
  }
 },
 "nbformat": 4,
 "nbformat_minor": 5
}
